{
  "nbformat": 4,
  "nbformat_minor": 0,
  "metadata": {
    "colab": {
      "provenance": []
    },
    "kernelspec": {
      "name": "python3",
      "display_name": "Python 3"
    },
    "language_info": {
      "name": "python"
    }
  },
  "cells": [
    {
      "cell_type": "markdown",
      "source": [
        "# Data Exploration for Tuning a Foundation Model\n",
        "\n",
        "**Project environment setup:**\n",
        "\n",
        "- Load credentials and relevant Python Libraries\n",
        "- If you were running this notebook locally, you would first install Vertex AI. In this classroom, this is already installed.\n",
        "\n",
        "```\n",
        "!pip install google-cloud-aiplatform\n",
        "```\n",
        "- You can download the `requirements.txt` for this course from the workspace of this lab. `File --> Open...`\n"
      ],
      "metadata": {
        "id": "Ez-dWaoiFK1y"
      }
    },
    {
      "cell_type": "code",
      "source": [
        "from utils import authenticate\n",
        "credentials, PROJECT_ID = authenticate()\n",
        "\n",
        "REGION = \"us-central1\"\n"
      ],
      "metadata": {
        "id": "48v2DytVkrkB"
      },
      "execution_count": null,
      "outputs": []
    },
    {
      "cell_type": "markdown",
      "source": [
        "\n",
        "- Import the [Vertex AI](https://cloud.google.com/vertex-ai) SDK.\n",
        "- The library helps to interact with the Vertex AI services in the cloud.\n",
        "- Initialize it.\n"
      ],
      "metadata": {
        "id": "WnKzdqBUldEz"
      }
    },
    {
      "cell_type": "code",
      "source": [
        "import vertexai\n",
        "\n",
        "vertexai.init(project = PROJECT_ID,\n",
        "              location = REGION,\n",
        "              credentials = credentials)\n"
      ],
      "metadata": {
        "id": "C-qnmtJQmLpi"
      },
      "execution_count": null,
      "outputs": []
    },
    {
      "cell_type": "markdown",
      "source": [
        "- Import [BigQuery](https://cloud.google.com/bigquery) to use as your data warehouse.\n",
        "- Initialize the client to start interacting with the data warehouse, send SQL and retrieve data into the notebook.\n"
      ],
      "metadata": {
        "id": "9BKIs0YxmQia"
      }
    },
    {
      "cell_type": "code",
      "source": [
        "\n",
        "from google.cloud import bigquery\n",
        "\n",
        "bq_client = bigquery.Client(project=PROJECT_ID,\n",
        "                            credentials = credentials)\n"
      ],
      "metadata": {
        "id": "t20MDx1dmUMc"
      },
      "execution_count": null,
      "outputs": []
    },
    {
      "cell_type": "markdown",
      "source": [
        "## Stack Overflow Public Dataset\n"
      ],
      "metadata": {
        "id": "8kiXjH6Emdei"
      }
    },
    {
      "cell_type": "markdown",
      "source": [
        "\n",
        "- You will use [Stack Overflow Data](https://cloud.google.com/blog/topics/public-datasets/google-bigquery-public-datasets-now-include-stack-overflow-q-a) on BigQuery Public Datasets.\n",
        "- The datasets include questions, answers and metadata related to Stack Overflow questions. Within this dataset, there are tables with data.\n",
        "- Create a SQL query.\n"
      ],
      "metadata": {
        "id": "3KryLA5nomTY"
      }
    },
    {
      "cell_type": "code",
      "source": [
        "QUERY_TABLES = \"\"\"\n",
        "SELECT\n",
        "  table_name\n",
        "FROM\n",
        "  `bigquery-public-data.stackoverflow.INFORMATION_SCHEMA.TABLES`\n",
        "\"\"\""
      ],
      "metadata": {
        "id": "uUhOy1c7mhkz"
      },
      "execution_count": null,
      "outputs": []
    },
    {
      "cell_type": "markdown",
      "source": [
        "- The query is asking to retrieve `table_name` of all the `TABLES`\n",
        "- Use the client to send your SQL and retrieve the data (tables names)."
      ],
      "metadata": {
        "id": "_9Os3WJJmn0i"
      }
    },
    {
      "cell_type": "code",
      "source": [
        "\n",
        "query_job = bq_client.query(QUERY_TABLES)\n",
        "\n",
        "for row in query_job:\n",
        "    for value in row.values():\n",
        "        print(value)\n"
      ],
      "metadata": {
        "id": "yAVYfYPomr37"
      },
      "execution_count": null,
      "outputs": []
    },
    {
      "cell_type": "markdown",
      "source": [
        "## Data Retrieval\n",
        "\n",
        "- You'll fetch some data from the data warehouse and store it in Pandas dataframe for visualization.\n",
        "- Select all columns from  `posts_questions` and put the `LIMIT` as 3.\n"
      ],
      "metadata": {
        "id": "nzsUTyHmmwBZ"
      }
    },
    {
      "cell_type": "code",
      "source": [
        "INSPECT_QUERY = \"\"\"\n",
        "SELECT\n",
        "    *\n",
        "FROM\n",
        "    `bigquery-public-data.stackoverflow.posts_questions`\n",
        "LIMIT 3\n",
        "\"\"\"\n"
      ],
      "metadata": {
        "id": "skOyndhVm0W8"
      },
      "execution_count": null,
      "outputs": []
    },
    {
      "cell_type": "code",
      "source": [
        "import pandas as pd\n",
        "\n",
        "query_job = bq_client.query(INSPECT_QUERY)\n",
        "\n",
        "- Take the results of the query `-->` create an arrow table (which is part of [Apache Framework](https://arrow.apache.org/docs/index.html)) `-->` which goes into a Pandas dataframe.\n",
        "- This allows for data to be in a format which is easier to read and explore with Pandas.\n",
        "\n",
        "stack_overflow_df = query_job\\\n",
        "    .result()\\\n",
        "    .to_arrow()\\\n",
        "    .to_pandas()\n",
        "stack_overflow_df.head()\n"
      ],
      "metadata": {
        "id": "QgPUF7Clm4yT"
      },
      "execution_count": null,
      "outputs": []
    },
    {
      "cell_type": "markdown",
      "source": [
        "\n",
        "### Dealing with Large Datasets\n",
        "\n",
        "- Large datasets for LLMs often don't fit into memory.\n",
        "- Select all of the columns and rows of the table `posts_questions`.\n"
      ],
      "metadata": {
        "id": "1Z4SndrwnA3A"
      }
    },
    {
      "cell_type": "code",
      "source": [
        "QUERY_ALL = \"\"\"\n",
        "SELECT\n",
        "    *\n",
        "FROM\n",
        "    `bigquery-public-data.stackoverflow.posts_questions` q\n",
        "\"\"\"\n"
      ],
      "metadata": {
        "id": "FHN6w6GMnDRN"
      },
      "execution_count": null,
      "outputs": []
    },
    {
      "cell_type": "code",
      "source": [
        "query_job = bq_client.query(QUERY_ALL)\n",
        "\n",
        "try:\n",
        "    stack_overflow_df = query_job\\\n",
        "    .result()\\\n",
        "    .to_arrow()\\\n",
        "    .to_pandas()\n",
        "except Exception as e:\n",
        "    print('The DataFrame is too large to load into memory.', e)\n"
      ],
      "metadata": {
        "id": "a-RpWZgOnUao"
      },
      "execution_count": null,
      "outputs": []
    },
    {
      "cell_type": "markdown",
      "source": [
        "\n",
        "**Note:** The data is too large to return, as it is not fitting into memory.\n"
      ],
      "metadata": {
        "id": "_uswyGgLncif"
      }
    },
    {
      "cell_type": "markdown",
      "source": [
        "\n",
        "#### Joining Tables and Query Optimization\n",
        "\n",
        "- When working with (large) data, query optimizing is needed in order to save time and resources.\n",
        "- Select questions as `input_text` (column 1), answers as `output_text` (column 2).\n",
        "- Take the questions from `posts_questions` and answers from `posts_answers`.\n",
        "- Join the questions and their corresponding accepted answers based on their same `unique ID`.\n",
        "- Making sure the question is about `Python`, and that it `has an answer`. And the date the question was posted is on or after `2020-01-01`\n",
        "- Limit as 10,000\n"
      ],
      "metadata": {
        "id": "oznEfnH3neTw"
      }
    },
    {
      "cell_type": "code",
      "source": [
        "QUERY = \"\"\"\n",
        "SELECT\n",
        "    CONCAT(q.title, q.body) as input_text,\n",
        "    a.body AS output_text\n",
        "FROM\n",
        "    `bigquery-public-data.stackoverflow.posts_questions` q\n",
        "JOIN\n",
        "    `bigquery-public-data.stackoverflow.posts_answers` a\n",
        "ON\n",
        "    q.accepted_answer_id = a.id\n",
        "WHERE\n",
        "    q.accepted_answer_id IS NOT NULL AND\n",
        "    REGEXP_CONTAINS(q.tags, \"python\") AND\n",
        "    a.creation_date >= \"2020-01-01\"\n",
        "LIMIT\n",
        "    10000\n",
        "\"\"\"\n",
        "\n",
        "query_job = bq_client.query(QUERY)"
      ],
      "metadata": {
        "id": "fceLxGmHnfag"
      },
      "execution_count": null,
      "outputs": []
    },
    {
      "cell_type": "markdown",
      "source": [
        "### this may take some seconds to run\n"
      ],
      "metadata": {
        "id": "nGcaJe8YnkB8"
      }
    },
    {
      "cell_type": "code",
      "source": [
        "stack_overflow_df = query_job.result()\\\n",
        "                        .to_arrow()\\\n",
        "                        .to_pandas()\n",
        "\n",
        "stack_overflow_df.head(2)\n"
      ],
      "metadata": {
        "id": "io8vdiyEnxYh"
      },
      "execution_count": null,
      "outputs": []
    },
    {
      "cell_type": "markdown",
      "source": [
        "\n",
        "### Adding Instructions\n",
        "\n",
        "\n",
        "- Instructions for LLMs have been shown to improve\n",
        "model performance and generalization to unseen tasks [(Google, 2022)](https://arxiv.org/pdf/2210.11416.pdf).\n",
        "- Wihtout the instruction, it is only question and answer. Model might not understand what to do.\n",
        "- With the instructions, the model gets a guideline as to what task to perform.\n"
      ],
      "metadata": {
        "id": "8ccmBhArnzIo"
      }
    },
    {
      "cell_type": "code",
      "source": [
        "INSTRUCTION_TEMPLATE = f\"\"\"\\\n",
        "Please answer the following Stackoverflow question on Python. \\\n",
        "Answer it like you are a developer answering Stackoverflow questions.\n",
        "\n",
        "Stackoverflow question:\n",
        "\"\"\"\n"
      ],
      "metadata": {
        "id": "Rdy-cO4tn2De"
      },
      "execution_count": null,
      "outputs": []
    },
    {
      "cell_type": "markdown",
      "source": [
        "\n",
        "- A new column will combine `INSTRUCTION_TEMPLATE` and the question `input_text`.\n",
        "- This avoids overwritting of any existing column which might be needed.\n"
      ],
      "metadata": {
        "id": "pzcED5xsn4QY"
      }
    },
    {
      "cell_type": "code",
      "source": [
        "\n",
        "stack_overflow_df['input_text_instruct'] = INSTRUCTION_TEMPLATE + ' '\\\n",
        "    + stack_overflow_df['input_text']\n"
      ],
      "metadata": {
        "id": "_DGie7bGtfng"
      },
      "execution_count": null,
      "outputs": []
    },
    {
      "cell_type": "markdown",
      "source": [
        "\n",
        "### Dataset for Tuning\n",
        "\n",
        "\n",
        "- Divide the data into a training and evaluation. By default, 80/20 split is used.\n",
        "- This (80/20 split) allows for more data to be used for tuning. The evaluation split is used as unseen data during tuning to evaluate performance.\n",
        "- The `random_state` parameter is used to ensure random sampling for a fair comparison.\n"
      ],
      "metadata": {
        "id": "v7BKgypKn5hD"
      }
    },
    {
      "cell_type": "code",
      "source": [
        "\n",
        "from sklearn.model_selection import train_test_split\n",
        "\n",
        "train, evaluation = train_test_split(\n",
        "    stack_overflow_df,\n",
        "    ### test_size=0.2 means 20% for evaluation\n",
        "    ### which then makes train set to be of 80%\n",
        "    test_size=0.2,\n",
        "    random_state=42\n",
        ")\n"
      ],
      "metadata": {
        "id": "6TYO2zhUn7jx"
      },
      "execution_count": null,
      "outputs": []
    },
    {
      "cell_type": "markdown",
      "source": [
        "\n",
        "#### Different Datasets and Flow\n",
        "\n",
        "\n",
        "- Versioning data is important.\n",
        "- It allows for reproducibility, traceability, and maintainability of machine learning models.\n",
        "- Get the timestamp.\n",
        "\n"
      ],
      "metadata": {
        "id": "5L153BUbn8n5"
      }
    },
    {
      "cell_type": "code",
      "source": [
        "import datetime\n",
        "\n",
        "date = datetime.datetime.now().strftime(\"%H:%d:%m:%Y\")\n"
      ],
      "metadata": {
        "id": "uQ91i0cqn-Uy"
      },
      "execution_count": null,
      "outputs": []
    },
    {
      "cell_type": "markdown",
      "source": [
        "\n",
        "- Generate a `jsonl` file.\n",
        "- Name it as `tune_data_stack_overflow_python_qa-{date}`\n"
      ],
      "metadata": {
        "id": "8K9TbQf7n_0G"
      }
    },
    {
      "cell_type": "code",
      "source": [
        "\n",
        "cols = ['input_text_instruct','output_text']\n",
        "tune_jsonl = train[cols].to_json(orient=\"records\", lines=True)\n",
        "\n",
        "training_data_filename = f\"tune_data_stack_overflow_\\\n",
        "                            python_qa-{date}.jsonl\"\n",
        "\n",
        "with open(training_data_filename, \"w\") as f:\n",
        "    f.write(tune_jsonl)\n"
      ],
      "metadata": {
        "id": "d49eqCiKoAyK"
      },
      "execution_count": null,
      "outputs": []
    },
    {
      "cell_type": "markdown",
      "source": [
        "\n",
        "## Try it Yourself! - Evaluation Set\n",
        "\n",
        "The code above generted a `jsonl` file for the `train` set. Now, its time for you to make the `evaluation` set, which you can name as `tune_eval_data_stack_overflow_python_qa-{date}.jsonl`. The code for that is also provided to you in the drop down below, but we encourage you to try it yourself first before you look at it.\n",
        "\n",
        "<details>\n",
        "  <summary><font size=\"2\" color=\"darkgreen\"><b>Code for Evaluation Set (Click to expand)</b></font></summary>\n",
        "\n",
        "```python\n",
        "\n",
        "cols = ['input_text_instruct','output_text']\n",
        "### you need to use the \"evaluation\" set now\n",
        "tune_jsonl = evaluation[cols].to_json(orient=\"records\", lines=True)\n",
        "\n",
        "### change the file name\n",
        "### use \"tune_eval_data_stack_overflow_python_qa-{date}.jsonl\"\n",
        "evaluation_data_filename = f\"tune_eval_data_stack_overflow_\\\n",
        "                            python_qa-{date}.jsonl\"\n",
        "\n",
        "### write the file\n",
        "with open(evaluation_data_filename, \"w\") as f:\n",
        "    f.write(tune_jsonl)\n",
        "\n",
        "```\n",
        "\n"
      ],
      "metadata": {
        "id": "1x9U5aNdoCAB"
      }
    }
  ]
}