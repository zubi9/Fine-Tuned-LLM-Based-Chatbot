{
  "nbformat": 4,
  "nbformat_minor": 0,
  "metadata": {
    "colab": {
      "provenance": []
    },
    "kernelspec": {
      "name": "python3",
      "display_name": "Python 3"
    },
    "language_info": {
      "name": "python"
    }
  },
  "cells": [
    {
      "cell_type": "markdown",
      "source": [
        "# workflow Automation by building pipeline\n",
        "\n",
        "- You will use [Kubeflow Pipelines](https://www.kubeflow.org/docs/components/pipelines/v2/) to orchestrat and automate a workflow.\n",
        "- Kubeflow Pipelines is an open source framework. It's like a construction kit for building machine learning pipelines, making it easy to orchestrate and automate complex tasks."
      ],
      "metadata": {
        "id": "YSVddWamD6e1"
      }
    },
    {
      "cell_type": "code",
      "source": [
        "\n",
        "from kfp import dsl\n",
        "from kfp import compiler\n",
        "\n",
        "# Ignore FutureWarnings in kfp\n",
        "import warnings\n",
        "warnings.filterwarnings(\"ignore\",\n",
        "                        category=FutureWarning,\n",
        "                        module='kfp.*')\n"
      ],
      "metadata": {
        "id": "roSnF6ZCmo5b"
      },
      "execution_count": null,
      "outputs": []
    },
    {
      "cell_type": "markdown",
      "source": [
        "\n",
        "## Kubeflow Pipelines\n",
        "\n",
        "- Kubeflow pipelines consist of two key concepts: Components and pipelines.\n",
        "- Pipeline components are like self-contained sets of code that perform various steps in your ML workflow, such as, the first step could be preprocessing data, and second step could betraining a model.\n"
      ],
      "metadata": {
        "id": "Qm9bELXlsdZX"
      }
    },
    {
      "cell_type": "markdown",
      "source": [
        "\n",
        "### Simple Pipeline Example\n",
        "\n",
        "##### Build the pipeline\n",
        "\n"
      ],
      "metadata": {
        "id": "MspnCJAIsinu"
      }
    },
    {
      "cell_type": "code",
      "source": [
        "\n",
        "### Simple example: component 1\n",
        "@dsl.component\n",
        "def say_hello(name: str) -> str:\n",
        "    hello_text = f'Hello, {name}!'\n",
        "    return hello_text\n"
      ],
      "metadata": {
        "id": "WWkGnkc9slvn"
      },
      "execution_count": null,
      "outputs": []
    },
    {
      "cell_type": "markdown",
      "source": [
        "\n",
        "- Since we \"wrapped\" this `say_hello` function in the decorator `@dsl.component`, the function will not actually return a string.\n",
        "- The function will return a `PipelineTask` object.\n"
      ],
      "metadata": {
        "id": "AQ0tJdvztviH"
      }
    },
    {
      "cell_type": "code",
      "source": [
        "\n",
        "hello_task = say_hello(name=\"Erwin\")\n",
        "print(hello_task)\n"
      ],
      "metadata": {
        "id": "x_BBAHlVsoUa"
      },
      "execution_count": null,
      "outputs": []
    },
    {
      "cell_type": "markdown",
      "source": [
        "\n",
        "- The object that we'll use to pass the information in `hello_text` to other components in the pipeline is `PipelineTask.output`, which will be a built-in data type:\n",
        "> `['String', 'Integer', 'Float', 'Boolean', 'List', 'Dict']`\n"
      ],
      "metadata": {
        "id": "3itgimrLso3A"
      }
    },
    {
      "cell_type": "code",
      "source": [
        "print(hello_task.output)"
      ],
      "metadata": {
        "id": "TvI4m7AUt4RX"
      },
      "execution_count": null,
      "outputs": []
    },
    {
      "cell_type": "markdown",
      "source": [
        "\n",
        "- Note when passing in values to the a `dsl.component` function, you have to specify the argument names (keyword arguments), and can't use positional arguments.\n"
      ],
      "metadata": {
        "id": "poLEZZlUt5Hu"
      }
    },
    {
      "cell_type": "code",
      "source": [
        "# this will give an error and ask you to specify the parameter name\n",
        "hello_task = say_hello(\"Erwin\")\n"
      ],
      "metadata": {
        "id": "W58yvfPZszDX"
      },
      "execution_count": null,
      "outputs": []
    },
    {
      "cell_type": "markdown",
      "source": [
        "\n",
        "- The second component is dependent on the first component\n",
        "- Take the output of the first component and pass it to the second component.\n"
      ],
      "metadata": {
        "id": "s4JuGqltszzW"
      }
    },
    {
      "cell_type": "code",
      "source": [
        "\n",
        "### Simple example: component 2\n",
        "@dsl.component\n",
        "def how_are_you(hello_text: str) -> str:\n",
        "\n",
        "    how_are_you = f\"{hello_text}. How are you?\"\n",
        "\n",
        "    return how_are_you"
      ],
      "metadata": {
        "id": "DprIMo_7t_9Z"
      },
      "execution_count": null,
      "outputs": []
    },
    {
      "cell_type": "markdown",
      "source": [
        "- Notice that when we pass in the return value from the `say_hello` function, we want to pass in the PipelineTask.output object, and not the PipelineTask object itself."
      ],
      "metadata": {
        "id": "Na9re91Gs1Sm"
      }
    },
    {
      "cell_type": "code",
      "source": [
        "how_task = how_are_you(hello_text=hello_task.output)\n",
        "print(how_task)\n",
        "print(how_task.output)\n"
      ],
      "metadata": {
        "id": "Wi2aIVvmuGsY"
      },
      "execution_count": null,
      "outputs": []
    },
    {
      "cell_type": "code",
      "source": [
        "\n",
        "how_task = how_are_you(hello_text=hello_task.output)\n",
        "print(how_task)\n",
        "print(how_task.output)\n"
      ],
      "metadata": {
        "id": "mNV08QGts2fd"
      },
      "execution_count": null,
      "outputs": []
    },
    {
      "cell_type": "code",
      "source": [
        "\n",
        "# This will give an error and ask you to pass in a built-in data type\n",
        "how_task = how_are_you(hello_text=hello_task)\n",
        "print(how_task)\n",
        "print(how_task.output)\n"
      ],
      "metadata": {
        "id": "-YJn5B4kuMJH"
      },
      "execution_count": null,
      "outputs": []
    },
    {
      "cell_type": "markdown",
      "source": [
        "\n",
        "- Define the pipeline.\n",
        "- Notice how the input to `say_hello` is just `recipient`, since that is already a built-in data type (a String).\n",
        "- Recall that to get the value from a PipelineTask object, you'll use `PipelineTask.output` to pass in that value to another Pipeline Component function.\n",
        "- Notice that Pipeline function should return the PipelineTask.output as well.\n"
      ],
      "metadata": {
        "id": "s81BvBGpuOm2"
      }
    },
    {
      "cell_type": "code",
      "source": [
        "\n",
        "### Simple example: pipeline\n",
        "@dsl.pipeline\n",
        "def hello_pipeline(recipient: str) -> str:\n",
        "\n",
        "    # notice, just recipient and not recipient.output\n",
        "    hello_task = say_hello(name=recipient)\n",
        "\n",
        "    # notice .output\n",
        "    how_task = how_are_you(hello_text=hello_task.output)\n",
        "\n",
        "    # notice .output\n",
        "    return how_task.output\n"
      ],
      "metadata": {
        "id": "25OiXCJKuPni"
      },
      "execution_count": null,
      "outputs": []
    },
    {
      "cell_type": "markdown",
      "source": [
        "\n",
        "- If you run this pipeline function, you'll see that the return value (`task.output` was a String) is again wrapped inside a PipelineTask object.\n"
      ],
      "metadata": {
        "id": "z3sK9YHTuU2E"
      }
    },
    {
      "cell_type": "code",
      "source": [
        "pipeline_output = hello_pipeline(recipient=\"Erwin\")\n",
        "print(pipeline_output)\n"
      ],
      "metadata": {
        "id": "AczLIpzyua3f"
      },
      "execution_count": null,
      "outputs": []
    },
    {
      "cell_type": "markdown",
      "source": [
        "\n",
        "- Note that if you tried to return a PipelineTask object instead of the PipelineTask.output, you'd get an error message\n"
      ],
      "metadata": {
        "id": "Gkmx_dPzudGS"
      }
    },
    {
      "cell_type": "code",
      "source": [
        "\n",
        "### Pipeline with wrong return value type\n",
        "@dsl.pipeline\n",
        "def hello_pipeline_with_error(recipient: str) -> str:\n",
        "    hello_task = say_hello(name=recipient)\n",
        "    how_task = how_are_you(hello_text=hello_task.output)\n",
        "\n",
        "    return how_task\n",
        "    # returning the PipelineTask object itself will give you an error\n",
        "\n"
      ],
      "metadata": {
        "id": "vidawvuRud00"
      },
      "execution_count": null,
      "outputs": []
    },
    {
      "cell_type": "markdown",
      "source": [
        "\n",
        "##### Implement the pipeline\n",
        "\n",
        "- A pipeline is a set of components that you orchestrate.\n",
        "- It lets you define the order of execution and how data flows from one step to another.\n",
        "- Compile the pipeline into a yaml file, `pipeline.yaml`\n",
        "- You can look at the `pipeline.yaml` file in your workspace by going to `File --> Open...`. Or right here in the notebook (two cells below)\n"
      ],
      "metadata": {
        "id": "QCRHQ1dzue76"
      }
    },
    {
      "cell_type": "code",
      "source": [
        "\n",
        "compiler.Compiler().compile(hello_pipeline, 'pipeline.yaml')\n"
      ],
      "metadata": {
        "id": "c70ZVYOQuf7e"
      },
      "execution_count": null,
      "outputs": []
    },
    {
      "cell_type": "markdown",
      "source": [
        "\n",
        "- Define the arguments, the input that goes into the pipeline.\n"
      ],
      "metadata": {
        "id": "STeBVqtyugy7"
      }
    },
    {
      "cell_type": "code",
      "source": [
        "\n",
        "pipeline_arguments = {\n",
        "    \"recipient\": \"World!\",\n",
        "}\n"
      ],
      "metadata": {
        "id": "EJzzvSutuhj5"
      },
      "execution_count": null,
      "outputs": []
    },
    {
      "cell_type": "markdown",
      "source": [
        "\n",
        "- View the `pipeline.yaml`\n"
      ],
      "metadata": {
        "id": "GlvmLlOyujmA"
      }
    },
    {
      "cell_type": "code",
      "source": [
        "\n",
        "!cat pipeline.yaml\n"
      ],
      "metadata": {
        "id": "WRyU9FSOukhs"
      },
      "execution_count": null,
      "outputs": []
    },
    {
      "cell_type": "markdown",
      "source": [
        "- You can use [Vertex AI pipelines](https://cloud.google.com/vertex-ai/docs/pipelines/introduction), a *managed*, serverless environment, to execute the yaml files.\n",
        "\n",
        "**Note**: Due to classroom restrictions, the execution will not take place in this notebook. But, if you were to execute it in your own environment, the code is provided below (for the simple example from above):\n",
        "\n",
        "```python\n",
        "### import `PipelineJob`\n",
        "from google.cloud.aiplatform import PipelineJob\n",
        "\n",
        "job = PipelineJob(\n",
        "        ### path of the yaml file to execute\n",
        "        template_path=\"pipeline.yaml\",\n",
        "        ### name of the pipeline\n",
        "        display_name=f\"deep_learning_ai_pipeline\",\n",
        "        ### pipeline arguments (inputs)\n",
        "        ### {\"recipient\": \"World!\"} for this example\n",
        "        parameter_values=pipeline_arguments,\n",
        "        ### region of execution\n",
        "        location=\"us-central1\",\n",
        "        ### root is where temporary files are being\n",
        "        ### stored by the execution engine\n",
        "        pipeline_root=\"./\",\n",
        ")\n",
        "\n",
        "### submit for execution\n",
        "job.submit()\n",
        "\n",
        "### check to see the status of the job\n",
        "job.state\n",
        "```\n",
        "\n",
        "- This is how the \"hello world pipeline\" would look like:\n",
        "\n",
        "For **say_hello**\n",
        "\n",
        "<div style=\"text-align: center;\">\n",
        "    <img src=\"./images/hello-world-pipeline_1.png\" width=\"511\" height=\"211\"/>\n",
        "</div>\n",
        "\n",
        "For **how_are_you**\n",
        "\n",
        "<div style=\"text-align: center;\">\n",
        "    <img src=\"./images/hello-world-pipeline_2.png\" width=\"511\" height=\"211\"/>\n",
        "</div>\n"
      ],
      "metadata": {
        "id": "szi07b4dulLW"
      }
    },
    {
      "cell_type": "markdown",
      "source": [
        "### Real-life Pipeline Example\n",
        "\n",
        "#### Automation and Orchestration of a Supervised Tuning Pipeline.\n",
        "\n",
        "- Reuse an existing Kubeflow Pipeline for Parameter-Efficient Fine-Tuning (PEFT) for a foundation model from Google, called [PaLM 2](https://ai.google/discover/palm2/).\n",
        "- Advantage of reusing a pipleline means you do not have to build it from scratch, you can only specify some of the parameters.\n",
        "\n",
        "### these are the same\n",
        "### jsonl files from the previous lab\n"
      ],
      "metadata": {
        "id": "EiEDQYYmwO8Z"
      }
    },
    {
      "cell_type": "code",
      "source": [
        "### time stamps have been removed so that\n",
        "### the files are consistent for all learners\n",
        "\n",
        "TRAINING_DATA_URI = \"./tune_data_stack_overflow_python_qa.jsonl\"\n",
        "EVAUATION_DATA_URI = \"./tune_eval_data_stack_overflow_python_qa.jsonl\"\n"
      ],
      "metadata": {
        "id": "PzUzxJriwVx8"
      },
      "execution_count": null,
      "outputs": []
    },
    {
      "cell_type": "markdown",
      "source": [
        "\n",
        "- Provide the model with a version.\n",
        "- Versioning model allows for:\n",
        "  - Reproducibility: Reproduce your results and ensure your models perform as expected.\n",
        "  - Auditing: Track changes to your models.\n",
        "  - Rollbacks: Roll back to a previous version of your model.\n"
      ],
      "metadata": {
        "id": "KqqgGTyiwZRe"
      }
    },
    {
      "cell_type": "code",
      "source": [
        "\n",
        "### path to the pipeline file to reuse\n",
        "### the file is provided in your workspace as well\n",
        "template_path = 'https://us-kfp.pkg.dev/ml-pipeline/\\\n",
        "large-language-model-pipelines/tune-large-model/v2.0.0'\n"
      ],
      "metadata": {
        "id": "TrgH6ZWHwaIu"
      },
      "execution_count": null,
      "outputs": []
    },
    {
      "cell_type": "code",
      "source": [
        "\n",
        "import datetime\n",
        "\n",
        "date = datetime.datetime.now().strftime(\"%H:%d:%m:%Y\")\n",
        "\n",
        "MODEL_NAME = f\"deep-learning-ai-model-{date}\"\n"
      ],
      "metadata": {
        "id": "l_yJfGktwbvY"
      },
      "execution_count": null,
      "outputs": []
    },
    {
      "cell_type": "markdown",
      "source": [
        "\n",
        "- This example uses two PaLM model parameters:\n",
        "  - `TRAINING_STEPS`: Number of training steps to use when tuning the model. For extractive QA you can set it from 100-500.\n",
        "  - `EVALUATION_INTERVAL`: The interval determines how frequently a trained model is evaluated against the created *evaluation set* to assess its performance and identify issues. Default will be 20, which means after every 20 training steps, the model is evaluated on the evaluation dataset.\n"
      ],
      "metadata": {
        "id": "bq49JZfIwciu"
      }
    },
    {
      "cell_type": "code",
      "source": [
        "\n",
        "TRAINING_STEPS = 200\n",
        "EVALUATION_INTERVAL = 20\n"
      ],
      "metadata": {
        "id": "OQHlqqBNwdL7"
      },
      "execution_count": null,
      "outputs": []
    },
    {
      "cell_type": "markdown",
      "source": [
        "\n",
        "- Load the Project ID and credentials\n"
      ],
      "metadata": {
        "id": "6xBD7bf8weFI"
      }
    },
    {
      "cell_type": "code",
      "source": [
        "\n",
        "from utils import authenticate\n",
        "credentials, PROJECT_ID = authenticate()\n"
      ],
      "metadata": {
        "id": "-guqGy78BYRU"
      },
      "execution_count": null,
      "outputs": []
    },
    {
      "cell_type": "code",
      "source": [
        "\n",
        "REGION = \"us-central1\"\n"
      ],
      "metadata": {
        "id": "6GLhvqhwwe-Y"
      },
      "execution_count": null,
      "outputs": []
    },
    {
      "cell_type": "markdown",
      "source": [
        "\n",
        "- Define the arguments, the input that goes into the pipeline.\n"
      ],
      "metadata": {
        "id": "RdqIY9C2wfwG"
      }
    },
    {
      "cell_type": "code",
      "source": [
        "\n",
        "pipeline_arguments = {\n",
        "    \"model_display_name\": MODEL_NAME,\n",
        "    \"location\": REGION,\n",
        "    \"large_model_reference\": \"text-bison@001\",\n",
        "    \"project\": PROJECT_ID,\n",
        "    \"train_steps\": TRAINING_STEPS,\n",
        "    \"dataset_uri\": TRAINING_DATA_URI,\n",
        "    \"evaluation_interval\": EVALUATION_INTERVAL,\n",
        "    \"evaluation_data_uri\": EVAUATION_DATA_URI,\n",
        "}\n"
      ],
      "metadata": {
        "id": "2P8Wu47JwgNT"
      },
      "execution_count": null,
      "outputs": []
    },
    {
      "cell_type": "code",
      "source": [
        "\n",
        "**Note**: Due to classroom restrictions, the execution will not take place in this notebook. But, if you were to execute it in your own environment, the code is provided below (for the real-life example from above). Keep in mind, **running this execution is time consuming and expensive**:\n",
        "\n",
        "```Python\n",
        "pipeline_root \"./\"\n",
        "\n",
        "job = PipelineJob(\n",
        "        ### path of the yaml file to execute\n",
        "        template_path=template_path,\n",
        "        ### name of the pipeline\n",
        "        display_name=f\"deep_learning_ai_pipeline-{date}\",\n",
        "        ### pipeline arguments (inputs)\n",
        "        parameter_values=pipeline_arguments,\n",
        "        ### region of execution\n",
        "        location=REGION,\n",
        "        ### root is where temporary files are being\n",
        "        ### stored by the execution engine\n",
        "        pipeline_root=pipeline_root,\n",
        "        ### enable_caching=True will save the outputs\n",
        "        ### of components for re-use, and will only re-run those\n",
        "        ### components for which the code or data has changed.\n",
        "        enable_caching=True,\n",
        ")\n",
        "\n",
        "### submit for execution\n",
        "job.submit()\n",
        "\n",
        "### check to see the status of the job\n",
        "job.state\n",
        "```\n"
      ],
      "metadata": {
        "id": "hNdkFyjJwhrR"
      },
      "execution_count": null,
      "outputs": []
    },
    {
      "cell_type": "markdown",
      "source": [
        "\n",
        "- This is how the successful execution of the job would display like:\n",
        "\n",
        "<div style=\"text-align: center;\">\n",
        "    <img src=\"./images/job_success_message.png\" width=\"511\" height=\"211\"/>\n",
        "</div>\n",
        "\n",
        "- This is how the pipeline graph would look like:\n",
        "\n",
        "<div style=\"text-align: center;\">\n",
        "    <img src=\"./images/peft_pipeline_1.png\" width=\"511\" height=\"211\"/>\n",
        "</div>\n",
        "\n"
      ],
      "metadata": {
        "id": "GhzS-nrkwjLF"
      }
    },
    {
      "cell_type": "code",
      "source": [],
      "metadata": {
        "id": "xQqLV_uptb3K"
      },
      "execution_count": null,
      "outputs": []
    }
  ]
}