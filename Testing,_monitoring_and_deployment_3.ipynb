{
  "nbformat": 4,
  "nbformat_minor": 0,
  "metadata": {
    "colab": {
      "provenance": []
    },
    "kernelspec": {
      "name": "python3",
      "display_name": "Python 3"
    },
    "language_info": {
      "name": "python"
    }
  },
  "cells": [
    {
      "cell_type": "markdown",
      "source": [
        "# Predictions, Prompts and Safety\n",
        "\n",
        "\n",
        "- Load the Project ID and credentials.\n"
      ],
      "metadata": {
        "id": "RStZNta309rB"
      }
    },
    {
      "cell_type": "code",
      "source": [
        "\n",
        "from utils import authenticate\n",
        "credentials, PROJECT_ID = authenticate()\n"
      ],
      "metadata": {
        "id": "g3QW9xCxB52P"
      },
      "execution_count": null,
      "outputs": []
    },
    {
      "cell_type": "code",
      "source": [
        "\n",
        "REGION = \"us-central1\"\n"
      ],
      "metadata": {
        "id": "xW3f43skB9nF"
      },
      "execution_count": null,
      "outputs": []
    },
    {
      "cell_type": "markdown",
      "source": [
        "\n",
        "- Import the [Vertex AI](https://cloud.google.com/vertex-ai) SDK.\n",
        "- Import and load the model.\n",
        "- Initialize it.\n"
      ],
      "metadata": {
        "id": "mc160pL-B-lz"
      }
    },
    {
      "cell_type": "code",
      "source": [
        "\n",
        "import vertexai\n",
        "from vertexai.language_models import TextGenerationModel\n",
        "\n",
        "vertexai.init(project = PROJECT_ID,\n",
        "              location = REGION,\n",
        "              credentials = credentials)\n"
      ],
      "metadata": {
        "id": "0NBwnLsxB_hH"
      },
      "execution_count": null,
      "outputs": []
    },
    {
      "cell_type": "markdown",
      "source": [
        "\n",
        "## Deployment\n"
      ],
      "metadata": {
        "id": "itVA_vigCAVM"
      }
    },
    {
      "cell_type": "markdown",
      "source": [
        "\n",
        "### Load Balancing\n",
        "\n",
        "- Load from pre-trained `text-bison@001`\n",
        "- Retrieve the endpoints (deployed as REST API)\n"
      ],
      "metadata": {
        "id": "ASjE1yk-CBVS"
      }
    },
    {
      "cell_type": "code",
      "source": [
        "\n",
        "model = TextGenerationModel.from_pretrained(\"text-bison@001\")\n"
      ],
      "metadata": {
        "id": "tKDeYQZfCDBM"
      },
      "execution_count": null,
      "outputs": []
    },
    {
      "cell_type": "markdown",
      "source": [
        "\n",
        "- Get the list of multiple models executed and deployed.\n",
        "- This helps to rout the traffic to different endpoints.\n"
      ],
      "metadata": {
        "id": "_YGZzzotCDzb"
      }
    },
    {
      "cell_type": "code",
      "source": [
        "\n",
        "list_tuned_models = model.list_tuned_model_names()\n",
        "\n",
        "for i in list_tuned_models:\n",
        "    print (i)\n"
      ],
      "metadata": {
        "id": "3tpDELIaCFGO"
      },
      "execution_count": null,
      "outputs": []
    },
    {
      "cell_type": "markdown",
      "source": [
        "\n",
        "- Randomly select from one of the endpoints to divide the prediction load.\n"
      ],
      "metadata": {
        "id": "Ii56ywpQCHkk"
      }
    },
    {
      "cell_type": "code",
      "source": [
        "\n",
        "import random\n",
        "\n",
        "tuned_model_select = random.choice(list_tuned_models)\n"
      ],
      "metadata": {
        "id": "2eaEPgDeCISW"
      },
      "execution_count": null,
      "outputs": []
    },
    {
      "cell_type": "markdown",
      "source": [
        "\n",
        "### Getting the Response\n",
        "\n",
        "- Load the endpoint of the randomly selected model to be called with a prompt.\n",
        "- The prompt needs to be as similar as possible as the one you trained your model on (python questions from stack overflow dataset)\n"
      ],
      "metadata": {
        "id": "GA6onP8lCJXG"
      }
    },
    {
      "cell_type": "code",
      "source": [
        "\n",
        "deployed_model = TextGenerationModel.get_tuned_model\\\n",
        "(tuned_model_select)\n",
        "\n",
        "PROMPT = \"How can I load a csv file using Pandas?\"\n"
      ],
      "metadata": {
        "id": "YyTJteNACKaA"
      },
      "execution_count": null,
      "outputs": []
    },
    {
      "cell_type": "markdown",
      "source": [
        "\n",
        "- Use `deployed_model.predit` to call the API using the prompt.\n"
      ],
      "metadata": {
        "id": "5gdNPVAPCLA3"
      }
    },
    {
      "cell_type": "markdown",
      "source": [
        "\n",
        "### depending on the latency of your prompt\n",
        "\n",
        "### it can take some time to load\n"
      ],
      "metadata": {
        "id": "1_XnwfPoCL-T"
      }
    },
    {
      "cell_type": "code",
      "source": [
        "response = deployed_model.predict(PROMPT)\n",
        "\n",
        "print(response)\n"
      ],
      "metadata": {
        "id": "fxiBdYOoDUH7"
      },
      "execution_count": null,
      "outputs": []
    },
    {
      "cell_type": "markdown",
      "source": [
        "\n",
        "- `pprint` makes the response easily readable.\n"
      ],
      "metadata": {
        "id": "Ts5nKzQyCP_r"
      }
    },
    {
      "cell_type": "code",
      "source": [
        "\n",
        "from pprint import pprint\n"
      ],
      "metadata": {
        "id": "WjnKD2pNCQwO"
      },
      "execution_count": null,
      "outputs": []
    },
    {
      "cell_type": "markdown",
      "source": [
        "\n",
        "- Sending multiple prompts can return multiple responses `([0], [1], [2]...)`\n",
        "- In this example, only 1 prompt is being sent, and returning only 1 response `([0])`\n"
      ],
      "metadata": {
        "id": "Nyxsf_bQCRL1"
      }
    },
    {
      "cell_type": "code",
      "source": [
        "\n",
        "### load the first object of the response\n",
        "output = response._prediction_response[0]\n",
        "\n",
        "### print the first object of the response\n",
        "pprint(output)\n"
      ],
      "metadata": {
        "id": "in2GdRgVCRzX"
      },
      "execution_count": null,
      "outputs": []
    },
    {
      "cell_type": "code",
      "source": [
        "\n",
        "### load the second object of the response\n",
        "output = response._prediction_response[0][0]\n",
        "\n",
        "### print the second object of the response\n",
        "pprint(output)\n"
      ],
      "metadata": {
        "id": "am_MDIjgCTqU"
      },
      "execution_count": null,
      "outputs": []
    },
    {
      "cell_type": "code",
      "source": [
        "\n",
        "### retrieve the \"content\" key from the second object\n",
        "final_output = response._prediction_response[0][0][\"content\"]\n",
        "\n",
        "### printing \"content\" key from the second object\n",
        "print(final_output)\n"
      ],
      "metadata": {
        "id": "l_oCXVaqCVXN"
      },
      "execution_count": null,
      "outputs": []
    },
    {
      "cell_type": "markdown",
      "source": [
        "\n",
        "#### Prompt Management and Templates\n",
        "- Remember that the model was trained on data that had an `Instruction` and a `Question` as a `Prompt` (Lesson 2).\n",
        "- In the example above, *only*  a `Question` as a `Prompt` was used for a response.\n",
        "- It is important for the production data to be the same as the training data. Difference in data can effect the model performance.\n",
        "- Add the same `Instruction` as it was used for training data, and combine it with a `Question` to be used as a `Prompt`.\n"
      ],
      "metadata": {
        "id": "GOOmeL3CCWKC"
      }
    },
    {
      "cell_type": "code",
      "source": [
        "\n",
        "INSTRUCTION = \"\"\"\\\n",
        "Please answer the following Stackoverflow question on Python.\\\n",
        "Answer it like\\\n",
        "you are a developer answering Stackoverflow questions.\\\n",
        "Question:\n",
        "\"\"\"\n"
      ],
      "metadata": {
        "id": "txswVVFbCXM0"
      },
      "execution_count": null,
      "outputs": []
    },
    {
      "cell_type": "code",
      "source": [
        "\n",
        "QUESTION = \"How can I store my TensorFlow checkpoint on\\\n",
        "Google Cloud Storage? Python example?\"\n"
      ],
      "metadata": {
        "id": "kXsAgBgaCYGI"
      },
      "execution_count": null,
      "outputs": []
    },
    {
      "cell_type": "markdown",
      "source": [
        "\n",
        "- Combine the intruction and the question to create the prompt.\n"
      ],
      "metadata": {
        "id": "mMx7vPCUCY-U"
      }
    },
    {
      "cell_type": "code",
      "source": [
        "\n",
        "PROMPT = f\"\"\"\n",
        "{INSTRUCTION} {QUESTION}\n",
        "\"\"\"\n",
        "\n",
        "print(PROMPT)\n"
      ],
      "metadata": {
        "id": "0PZdShKxCZf2"
      },
      "execution_count": null,
      "outputs": []
    },
    {
      "cell_type": "markdown",
      "source": [
        "\n",
        "- Get the response using the new prompt, which is consistent with the prompt used for training.\n"
      ],
      "metadata": {
        "id": "00pttz4DCaN5"
      }
    },
    {
      "cell_type": "code",
      "source": [
        "\n",
        "final_response = deployed_model.predict(PROMPT)\n",
        "\n",
        "output = final_response._prediction_response[0][0][\"content\"]\n"
      ],
      "metadata": {
        "id": "Bww-_YOACbDv"
      },
      "execution_count": null,
      "outputs": []
    },
    {
      "cell_type": "markdown",
      "source": [
        "\n",
        "- Note how the response changed from earlier.\n"
      ],
      "metadata": {
        "id": "B2I7pPCTCdHs"
      }
    },
    {
      "cell_type": "code",
      "source": [
        "\n",
        "print(output)\n"
      ],
      "metadata": {
        "id": "tAiEFzS9Cduj"
      },
      "execution_count": null,
      "outputs": []
    },
    {
      "cell_type": "markdown",
      "source": [
        "\n",
        "### Safety Attributes\n",
        "- The reponse also includes safety scores.\n",
        "- These scores can be used to make sure that the LLM's response is within the boundries of the expected behaviour.\n",
        "- The first layer for this check, `blocked`, is by the model itself.\n"
      ],
      "metadata": {
        "id": "EnfvBGkdCemM"
      }
    },
    {
      "cell_type": "markdown",
      "source": [
        "\n",
        "### retrieve the \"blocked\" key from the\n"
      ],
      "metadata": {
        "id": "w911_q9NCfVr"
      }
    },
    {
      "cell_type": "code",
      "source": [
        "### \"safetyAttributes\" of the response\n",
        "blocked = response._prediction_response[0][0]\\\n",
        "['safetyAttributes']['blocked']\n"
      ],
      "metadata": {
        "id": "tAezKoZqCgZC"
      },
      "execution_count": null,
      "outputs": []
    },
    {
      "cell_type": "markdown",
      "source": [
        "\n",
        "- Check to see if any response was blocked.\n",
        "- It returns `True` if there is, and `False` if there's none.\n"
      ],
      "metadata": {
        "id": "3kzfIowKChDf"
      }
    },
    {
      "cell_type": "code",
      "source": [
        "\n",
        "print(blocked)\n"
      ],
      "metadata": {
        "id": "eiYHpg_XCh7v"
      },
      "execution_count": null,
      "outputs": []
    },
    {
      "cell_type": "markdown",
      "source": [
        "\n",
        "- The second layer of this check can be defined by you, as a practitioner, according to the thresholds you set.\n",
        "- The response returns probabilities for each safety score category which can be used to design the thresholds.\n"
      ],
      "metadata": {
        "id": "n3t_xpfWCick"
      }
    },
    {
      "cell_type": "code",
      "source": [
        "\n",
        "### retrieve the \"safetyAttributes\" of the response\n",
        "safety_attributes = response._prediction_response[0][0]\\\n",
        "['safetyAttributes']\n",
        "\n",
        "pprint(safety_attributes)\n"
      ],
      "metadata": {
        "id": "ORmGn9VRCjEg"
      },
      "execution_count": null,
      "outputs": []
    },
    {
      "cell_type": "markdown",
      "source": [
        "\n",
        "### Citations\n",
        "- Ideally, a LLM should generate as much original cotent as possible.\n",
        "- The `citationMetadata` can be used to check and reduce the chances of a LLM generating a lot of existing content.\n"
      ],
      "metadata": {
        "id": "NP0jSiCgCj64"
      }
    },
    {
      "cell_type": "markdown",
      "source": [
        "\n",
        "### retrieve the \"citations\" key from the\n",
        "### \"citationMetadata\" of the response\n"
      ],
      "metadata": {
        "id": "PXD5YDCCClCu"
      }
    },
    {
      "cell_type": "code",
      "source": [
        "citation = response._prediction_response[0][0]\\\n",
        "['citationMetadata']['citations']\n"
      ],
      "metadata": {
        "id": "mn1-PRTACmlq"
      },
      "execution_count": null,
      "outputs": []
    },
    {
      "cell_type": "markdown",
      "source": [
        "\n",
        "- Returns a list with information if the response is cited, if not, then it retuns an empty list.\n"
      ],
      "metadata": {
        "id": "_SgcBNwoCnfP"
      }
    },
    {
      "cell_type": "code",
      "source": [
        "\n",
        "pprint(citation)\n"
      ],
      "metadata": {
        "id": "rrrc8WwwCn_-"
      },
      "execution_count": null,
      "outputs": []
    },
    {
      "cell_type": "markdown",
      "source": [
        "\n",
        "## Try it Yourself! - Return a Citation\n",
        "\n",
        "Now it is time for you to come up with an example, for which the model response should return citation infomration. The idea here is to see how that would look like, so keeping it basic, the prompt can be different than the coding examples used above. Below code is one such prompt:\n"
      ],
      "metadata": {
        "id": "jekAc2fLCocQ"
      }
    },
    {
      "cell_type": "code",
      "source": [
        "\n",
        "PROMPT = \"Finish the sentence: To be, or not \"\n",
        "\n",
        "response = deployed_model.predict(PROMPT)\n",
        "\n",
        "### output of the model\n",
        "output = response._prediction_response[0][0][\"content\"]\n",
        "print(output)\n"
      ],
      "metadata": {
        "id": "KqVoN53bCrIN"
      },
      "execution_count": null,
      "outputs": []
    },
    {
      "cell_type": "markdown",
      "source": [
        "### check for citation\n"
      ],
      "metadata": {
        "id": "9s5J_--sCvN_"
      }
    },
    {
      "cell_type": "code",
      "source": [
        "citation = response._prediction_response[0][0]\\\n",
        "['citationMetadata']['citations']\n",
        "\n",
        "pprint(citation)\n"
      ],
      "metadata": {
        "id": "L3DVS6-uDG5Y"
      },
      "execution_count": null,
      "outputs": []
    }
  ]
}